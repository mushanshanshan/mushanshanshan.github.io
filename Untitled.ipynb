{
 "cells": [
  {
   "cell_type": "code",
   "execution_count": 8,
   "id": "ebfa026d-9ee8-4c2f-9143-d46d475e146e",
   "metadata": {},
   "outputs": [],
   "source": [
    "import os\n",
    "import math\n",
    "import glob\n",
    "import librosa\n",
    "import pyworld\n",
    "import pysptk\n",
    "import numpy as np\n",
    "import matplotlib.pyplot as plot\n",
    "from glob import glob\n",
    "from tqdm import tqdm\n",
    "from p_tqdm import p_umap\n",
    "from mel_cepstral_distance import get_metrics_wavs, get_metrics_mels\n",
    "from pathlib import Path"
   ]
  },
  {
   "cell_type": "code",
   "execution_count": 19,
   "id": "69d4edcd-8462-4a53-82eb-f84773cc97c4",
   "metadata": {},
   "outputs": [],
   "source": [
    "def MCD(gt, syn):\n",
    "    return get_metrics_wavs(Path(gt), Path(syn))"
   ]
  },
  {
   "cell_type": "code",
   "execution_count": 21,
   "id": "aa415c70-4945-4f4b-9c70-975e7de85b7c",
   "metadata": {},
   "outputs": [],
   "source": [
    "gt_list = glob(\"./Lib/Gt/*.wav\")\n",
    "\n",
    "our = []\n",
    "re = []\n",
    "sty = []\n",
    "vitsx = []\n",
    "your = []"
   ]
  },
  {
   "cell_type": "code",
   "execution_count": 24,
   "id": "0df63c4b-5dc8-48a4-a1ef-a2b298fb3279",
   "metadata": {},
   "outputs": [
    {
     "name": "stderr",
     "output_type": "stream",
     "text": [
      "100%|█████████████████████████████████████████| 175/175 [02:29<00:00,  1.17it/s]\n"
     ]
    }
   ],
   "source": [
    "for i in tqdm(gt_list):\n",
    "    try:\n",
    "        our.append(MCD(i, i.replace(\"Gt\", \"Ours\")))\n",
    "        re.append(MCD(i, i.replace(\"Gt\", \"Re\")))\n",
    "        sty.append(MCD(i, i.replace(\"Gt\", \"Style\")))\n",
    "        vitsx.append(MCD(i, i.replace(\"Gt\", \"VitsX\")))\n",
    "        your.append(MCD(i, i.replace(\"Gt\", \"Your\")))\n",
    "    except:\n",
    "        pass"
   ]
  },
  {
   "cell_type": "code",
   "execution_count": 25,
   "id": "295c3fde-454f-4209-a61f-543ac27644b8",
   "metadata": {},
   "outputs": [
    {
     "name": "stdout",
     "output_type": "stream",
     "text": [
      "7.208445064872464\n",
      "3.29220720699267\n",
      "9.044168212433746\n",
      "8.022910138985239\n"
     ]
    },
    {
     "ename": "ZeroDivisionError",
     "evalue": "division by zero",
     "output_type": "error",
     "traceback": [
      "\u001b[0;31m---------------------------------------------------------------------------\u001b[0m",
      "\u001b[0;31mZeroDivisionError\u001b[0m                         Traceback (most recent call last)",
      "\u001b[0;32m/tmp/ipykernel_810984/1644287900.py\u001b[0m in \u001b[0;36m<module>\u001b[0;34m\u001b[0m\n\u001b[1;32m      3\u001b[0m     \u001b[0;32mfor\u001b[0m \u001b[0mi\u001b[0m \u001b[0;32min\u001b[0m \u001b[0mt\u001b[0m\u001b[0;34m:\u001b[0m\u001b[0;34m\u001b[0m\u001b[0;34m\u001b[0m\u001b[0m\n\u001b[1;32m      4\u001b[0m         \u001b[0ms\u001b[0m \u001b[0;34m+=\u001b[0m \u001b[0mi\u001b[0m\u001b[0;34m[\u001b[0m\u001b[0;36m0\u001b[0m\u001b[0;34m]\u001b[0m\u001b[0;34m\u001b[0m\u001b[0;34m\u001b[0m\u001b[0m\n\u001b[0;32m----> 5\u001b[0;31m     \u001b[0mprint\u001b[0m\u001b[0;34m(\u001b[0m\u001b[0ms\u001b[0m \u001b[0;34m/\u001b[0m \u001b[0mlen\u001b[0m\u001b[0;34m(\u001b[0m\u001b[0mt\u001b[0m\u001b[0;34m)\u001b[0m\u001b[0;34m)\u001b[0m\u001b[0;34m\u001b[0m\u001b[0;34m\u001b[0m\u001b[0m\n\u001b[0m\u001b[1;32m      6\u001b[0m \u001b[0;34m\u001b[0m\u001b[0m\n",
      "\u001b[0;31mZeroDivisionError\u001b[0m: division by zero"
     ]
    }
   ],
   "source": [
    "for t in [our, re, sty, vitsx, your]:\n",
    "    s = 0\n",
    "    for i in t:\n",
    "        s += i[0]\n",
    "    print(s / len(t))\n",
    "    "
   ]
  },
  {
   "cell_type": "code",
   "execution_count": 27,
   "id": "ebbd9535-05b2-4afb-be3a-6419b219f00a",
   "metadata": {},
   "outputs": [
    {
     "data": {
      "text/plain": [
       "170"
      ]
     },
     "execution_count": 27,
     "metadata": {},
     "output_type": "execute_result"
    }
   ],
   "source": [
    "len(vitsx)"
   ]
  },
  {
   "cell_type": "code",
   "execution_count": 28,
   "id": "8378d0ce-87b8-4eb3-b5ad-143a532e953c",
   "metadata": {},
   "outputs": [
    {
     "data": {
      "text/plain": [
       "0"
      ]
     },
     "execution_count": 28,
     "metadata": {},
     "output_type": "execute_result"
    }
   ],
   "source": [
    "len(your)"
   ]
  },
  {
   "cell_type": "code",
   "execution_count": 37,
   "id": "8b32a68c-3a1c-4df5-951c-97c4058cd0bc",
   "metadata": {},
   "outputs": [
    {
     "name": "stdout",
     "output_type": "stream",
     "text": [
      "-0.48 -0.27\n"
     ]
    }
   ],
   "source": [
    "l = 3.75\n",
    "\n",
    "a = 3.27\n",
    "b = 3.48\n",
    "\n",
    "print(a-l, b-l)"
   ]
  },
  {
   "cell_type": "code",
   "execution_count": null,
   "id": "0487df6a-47be-4e2e-bc23-7e2593165f2b",
   "metadata": {},
   "outputs": [],
   "source": []
  }
 ],
 "metadata": {
  "kernelspec": {
   "display_name": "Python 3 (ipykernel)",
   "language": "python",
   "name": "python3"
  },
  "language_info": {
   "codemirror_mode": {
    "name": "ipython",
    "version": 3
   },
   "file_extension": ".py",
   "mimetype": "text/x-python",
   "name": "python",
   "nbconvert_exporter": "python",
   "pygments_lexer": "ipython3",
   "version": "3.7.12"
  }
 },
 "nbformat": 4,
 "nbformat_minor": 5
}
